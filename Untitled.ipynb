{
 "cells": [
  {
   "cell_type": "code",
   "execution_count": 1,
   "id": "ec94101a",
   "metadata": {},
   "outputs": [],
   "source": [
    "from astropy.table import Table"
   ]
  },
  {
   "cell_type": "code",
   "execution_count": 3,
   "id": "74a705aa",
   "metadata": {},
   "outputs": [],
   "source": [
    "a = Table.read('results/sample_gspspec.ascii', format='ascii.commented_header')"
   ]
  },
  {
   "cell_type": "code",
   "execution_count": 4,
   "id": "a7501daa",
   "metadata": {},
   "outputs": [
    {
     "data": {
      "text/html": [
       "<div><i>Table length=1</i>\n",
       "<table id=\"table139825844251824\" class=\"table-striped table-bordered table-condensed\">\n",
       "<thead><tr><th>starid</th><th>MH_GSPSPEC_GAIA_UNCALIBRATED</th><th>ALPHAFE_GSPSPEC_GAIA_CALIBRATED_LOGG</th><th>UPPER_ERROR_TEFF_GSPSPEC_GAIA</th><th>LOWER_ERROR_ALPHAFE_GSPSPEC_GAIA</th><th>PHOT_BP_MEAN_FLUX_GAIA</th><th>ERROR_PHOT_BP_MEAN_FLUX_GAIA</th><th>LOGG_GSPSPEC_GAIA_UNCALIBRATED</th><th>FLAGS_GSPSPEC_GAIA</th><th>ERROR_PHOT_RP_MEAN_FLUX_GAIA</th><th>ZPCORR_PARALLAX_GAIA</th><th>PHOT_G_MEAN_FLUX_GAIA</th><th>FLAG_CAL_ALPHAFE_GSPSPEC_GAIA_LOGG</th><th>UPPER_ERROR_LOGG_GSPSPEC_GAIA</th><th>ERROR_PHOT_G_MEAN_FLUX_GAIA</th><th>LOWER_ERROR_LOGG_GSPSPEC_GAIA</th><th>TEFF_GSPSPEC_GAIA</th><th>MH_GSPSPEC_GAIA_CALIBRATED_LOGG</th><th>WARNINGS_PARALLAXOFFSET_GAIA</th><th>LOWER_ERROR_TEFF_GSPSPEC_GAIA</th><th>UPPER_ERROR_ALPHAFE_GSPSPEC_GAIA</th><th>PHOT_RP_MEAN_FLUX_GAIA</th><th>FLAG_CAL_LOGG_GSPSPEC_GAIA_LOGG</th><th>UPPER_ERROR_MH_GSPSPEC_GAIA</th><th>FLAG_CAL_MH_GSPSPEC_GAIA_LOGG</th><th>LOGG_GSPSPEC_GAIA_CALIBRATED_LOGG</th><th>ALPHAFE_GSPSPEC_GAIA_UNCALIBRATED</th><th>LOWER_ERROR_MH_GSPSPEC_GAIA</th></tr></thead>\n",
       "<thead><tr><th>int64</th><th>float64</th><th>float64</th><th>float64</th><th>float64</th><th>float64</th><th>float64</th><th>float64</th><th>int64</th><th>float64</th><th>float64</th><th>float64</th><th>str5</th><th>float64</th><th>float64</th><th>float64</th><th>float64</th><th>float64</th><th>str5</th><th>float64</th><th>float64</th><th>float64</th><th>str5</th><th>float64</th><th>str5</th><th>float64</th><th>float64</th><th>float64</th></tr></thead>\n",
       "<tr><td>5673934548598976256</td><td>-9999.0</td><td>-9999.0</td><td>-9999.0</td><td>-9999.0</td><td>6101.3555529700425</td><td>21.110458374023438</td><td>-9999.0</td><td>--</td><td>65.11183166503906</td><td>25.969653567799323</td><td>36404.80544783458</td><td>False</td><td>-9999.0</td><td>19.260093688964844</td><td>-9999.0</td><td>-9999.0</td><td>-9999.0</td><td>False</td><td>-9999.0</td><td>-9999.0</td><td>46946.223008333196</td><td>False</td><td>-9999.0</td><td>False</td><td>-9999.0</td><td>-9999.0</td><td>-9999.0</td></tr>\n",
       "</table></div>"
      ],
      "text/plain": [
       "<Table length=1>\n",
       "       starid       MH_GSPSPEC_GAIA_UNCALIBRATED ALPHAFE_GSPSPEC_GAIA_CALIBRATED_LOGG ... LOGG_GSPSPEC_GAIA_CALIBRATED_LOGG ALPHAFE_GSPSPEC_GAIA_UNCALIBRATED LOWER_ERROR_MH_GSPSPEC_GAIA\n",
       "       int64                  float64                          float64                ...              float64                           float64                        float64          \n",
       "------------------- ---------------------------- ------------------------------------ ... --------------------------------- --------------------------------- ---------------------------\n",
       "5673934548598976256                      -9999.0                              -9999.0 ...                           -9999.0                           -9999.0                     -9999.0"
      ]
     },
     "execution_count": 4,
     "metadata": {},
     "output_type": "execute_result"
    }
   ],
   "source": [
    "a"
   ]
  },
  {
   "cell_type": "code",
   "execution_count": 5,
   "id": "111cfe30",
   "metadata": {},
   "outputs": [],
   "source": [
    "a = Table.read('results/sample.ascii', format='ascii.commented_header')"
   ]
  },
  {
   "cell_type": "code",
   "execution_count": 6,
   "id": "f4d0c53a",
   "metadata": {},
   "outputs": [
    {
     "data": {
      "text/html": [
       "<div><i>Table length=1</i>\n",
       "<table id=\"table139824444770192\" class=\"table-striped table-bordered table-condensed\">\n",
       "<thead><tr><th>SOLUTION_ID_GAIA</th><th>DESIGNATION_GAIA</th><th>SOURCE_ID_GAIA</th><th>RANDOM_INDEX_GAIA</th><th>REF_EPOCH_GAIA</th><th>RA_GAIA</th><th>ERROR_RA_GAIA</th><th>DEC_GAIA</th><th>ERROR_DEC_GAIA</th><th>UNCORRECTED_PARALLAX_GAIA</th><th>ERROR_PARALLAX_GAIA</th><th>PARALLAX_OVER_ERROR_GAIA</th><th>TOTALPM_GAIA</th><th>PMRA_GAIA</th><th>ERROR_PMRA_GAIA</th><th>PMDEC_GAIA</th><th>ERROR_PMDEC_GAIA</th><th>RA_DEC_CORR_GAIA</th><th>RA_PARALLAX_CORR_GAIA</th><th>RA_PMRA_CORR_GAIA</th><th>RA_PMDEC_CORR_GAIA</th><th>DEC_PARALLAX_CORR_GAIA</th><th>DEC_PMRA_CORR_GAIA</th><th>DEC_PMDEC_CORR_GAIA</th><th>PARALLAX_PMRA_CORR_GAIA</th><th>PARALLAX_PMDEC_CORR_GAIA</th><th>PMRA_PMDEC_CORR_GAIA</th><th>ASTROMETRIC_N_OBS_AL_GAIA</th><th>ASTROMETRIC_N_OBS_AC_GAIA</th><th>ASTROMETRIC_N_GOOD_OBS_AL_GAIA</th><th>ASTROMETRIC_N_BAD_OBS_AL_GAIA</th><th>ASTROMETRIC_GOF_AL_GAIA</th><th>ASTROMETRIC_CHI2_AL_GAIA</th><th>ASTROMETRIC_EXCESS_NOISE_GAIA</th><th>ASTROMETRIC_EXCESS_NOISE_SIG_GAIA</th><th>ASTROMETRIC_PARAMS_SOLVED_GAIA</th><th>ASTROMETRIC_PRIMARY_FLAG_GAIA</th><th>NU_EFF_ASTROMETRY_GAIA</th><th>PSEUDOCOLOUR_GAIA</th><th>PSEUDOCOLOUR_ERROR_GAIA</th><th>RA_PSEUDOCOLOUR_CORR_GAIA</th><th>DEC_PSEUDOCOLOUR_CORR_GAIA</th><th>PARALLAX_PSEUDOCOLOUR_CORR_GAIA</th><th>PMRA_PSEUDOCOLOUR_CORR_GAIA</th><th>PMDEC_PSEUDOCOLOUR_CORR_GAIA</th><th>ASTROMETRIC_MATCHED_TRANSITS_GAIA</th><th>VISIBILITY_PERIODS_USED_GAIA</th><th>ASTROMETRIC_SIGMA5D_MAX_GAIA</th><th>MATCHED_TRANSITS_GAIA</th><th>NEW_MATCHED_TRANSITS_GAIA</th><th>MATCHED_TRANSITS_REMOVED_GAIA</th><th>IPD_GOF_HARMONIC_AMPLITUDE_GAIA</th><th>IPD_GOF_HARMONIC_PHASE_GAIA</th><th>IPD_FRAC_MULTI_PEAK_GAIA</th><th>IPD_FRAC_ODD_WIN_GAIA</th><th>RUWE_GAIA</th><th>SCAN_DIRECTION_STRENGTH_K1_GAIA</th><th>SCAN_DIRECTION_STRENGTH_K2_GAIA</th><th>SCAN_DIRECTION_STRENGTH_K3_GAIA</th><th>SCAN_DIRECTION_STRENGTH_K4_GAIA</th><th>SCAN_DIRECTION_MEAN_K1_GAIA</th><th>SCAN_DIRECTION_MEAN_K2_GAIA</th><th>SCAN_DIRECTION_MEAN_K3_GAIA</th><th>SCAN_DIRECTION_MEAN_K4_GAIA</th><th>DUPLICATED_SOURCE_GAIA</th><th>PHOT_G_N_OBS_GAIA</th><th>PHOT_G_MEAN_FLUX_GAIA</th><th>ERROR_PHOT_G_MEAN_FLUX_GAIA</th><th>PHOT_G_MEAN_FLUX_OVER_ERROR_GAIA</th><th>PHOT_G_MEAN_MAG_GAIA</th><th>PHOT_BP_N_OBS_GAIA</th><th>PHOT_BP_MEAN_FLUX_GAIA</th><th>ERROR_PHOT_BP_MEAN_FLUX_GAIA</th><th>PHOT_BP_MEAN_FLUX_OVER_ERROR_GAIA</th><th>PHOT_BP_MEAN_MAG_GAIA</th><th>PHOT_RP_N_OBS_GAIA</th><th>PHOT_RP_MEAN_FLUX_GAIA</th><th>ERROR_PHOT_RP_MEAN_FLUX_GAIA</th><th>PHOT_RP_MEAN_FLUX_OVER_ERROR_GAIA</th><th>PHOT_RP_MEAN_MAG_GAIA</th><th>PHOT_BP_RP_EXCESS_FACTOR_GAIA</th><th>PHOT_BP_N_CONTAMINATED_TRANSITS_GAIA</th><th>PHOT_BP_N_BLENDED_TRANSITS_GAIA</th><th>PHOT_RP_N_CONTAMINATED_TRANSITS_GAIA</th><th>PHOT_RP_N_BLENDED_TRANSITS_GAIA</th><th>PHOT_PROC_MODE_GAIA</th><th>BP_RP_GAIA</th><th>BP_G_GAIA</th><th>G_RP_GAIA</th><th>LOS_VELOCITY_GAIA</th><th>ERROR_LOS_VELOCITY_GAIA</th><th>RV_METHOD_USED_GAIA</th><th>RV_NB_TRANSITS_GAIA</th><th>RV_NB_DEBLENDED_TRANSITS_GAIA</th><th>RV_VISIBILITY_PERIODS_USED_GAIA</th><th>RV_EXPECTED_SIG_TO_NOISE_GAIA</th><th>RV_RENORMALISED_GOF_GAIA</th><th>RV_CHISQ_PVALUE_GAIA</th><th>RV_TIME_DURATION_GAIA</th><th>RV_AMPLITUDE_ROBUST_GAIA</th><th>RV_TEMPLATE_TEFF_GAIA</th><th>RV_TEMPLATE_LOGG_GAIA</th><th>RV_TEMPLATE_FE_H_GAIA</th><th>RV_ATM_PARAM_ORIGIN_GAIA</th><th>VBROAD_GAIA</th><th>ERROR_VBROAD_GAIA</th><th>VBROAD_NB_TRANSITS_GAIA</th><th>GRVS_MAG_GAIA</th><th>ERROR_GRVS_MAG_GAIA</th><th>GRVS_MAG_NB_TRANSITS_GAIA</th><th>RVS_SPEC_SIG_TO_NOISE_GAIA</th><th>PHOT_VARIABLE_FLAG_GAIA</th><th>L_GAIA</th><th>B_GAIA</th><th>ECL_LON_GAIA</th><th>ECL_LAT_GAIA</th><th>IN_QSO_CANDIDATES_GAIA</th><th>IN_GALAXY_CANDIDATES_GAIA</th><th>NON_SINGLE_STAR_GAIA</th><th>HAS_XP_CONTINUOUS_GAIA</th><th>HAS_XP_SAMPLED_GAIA</th><th>HAS_RVS_GAIA</th><th>HAS_EPOCH_PHOTOMETRY_GAIA</th><th>HAS_EPOCH_RV_GAIA</th><th>HAS_MCMC_GSPPHOT_GAIA</th><th>HAS_MCMC_MSC_GAIA</th><th>IN_ANDROMEDA_SURVEY_GAIA</th><th>CLASSPROB_DSC_COMBMOD_QUASAR_GAIA</th><th>CLASSPROB_DSC_COMBMOD_GALAXY_GAIA</th><th>CLASSPROB_DSC_COMBMOD_STAR_GAIA</th><th>TEFF_GSPPHOT_GAIA</th><th>LOWER_ERROR_TEFF_GSPPHOT_GAIA</th><th>UPPER_ERROR_TEFF_GSPPHOT_GAIA</th><th>LOGG_GSPPHOT_GAIA</th><th>LOWER_ERROR_LOGG_GSPPHOT_GAIA</th><th>UPPER_ERROR_LOGG_GSPPHOT_GAIA</th><th>MH_GSPPHOT_GAIA</th><th>LOWER_ERROR_MH_GSPPHOT_GAIA</th><th>UPPER_ERROR_MH_GSPPHOT_GAIA</th><th>DISTANCE_GSPPHOT_GAIA</th><th>LOWER_ERROR_DISTANCE_GSPPHOT_GAIA</th><th>UPPER_ERROR_DISTANCE_GSPPHOT_GAIA</th><th>AZERO_GSPPHOT_GAIA</th><th>LOWER_ERROR_AZERO_GSPPHOT_GAIA</th><th>UPPER_ERROR_AZERO_GSPPHOT_GAIA</th><th>AG_GSPPHOT_GAIA</th><th>LOWER_ERROR_AG_GSPPHOT_GAIA</th><th>UPPER_ERROR_AG_GSPPHOT_GAIA</th><th>EBPMINRP_GSPPHOT_GAIA</th><th>LOWER_ERROR_EBPMINRP_GSPPHOT_GAIA</th><th>UPPER_ERROR_EBPMINRP_GSPPHOT_GAIA</th><th>LIBNAME_GSPPHOT_GAIA</th><th>ZPCORR_PARALLAX_GAIA</th><th>WARNINGS_PARALLAXOFFSET_GAIA</th><th>ERROR_PHOT_G_MEAN_MAG_GAIA</th><th>ERROR_PHOT_BP_MEAN_MAG_GAIA</th><th>ERROR_PHOT_RP_MEAN_MAG_GAIA</th></tr></thead>\n",
       "<thead><tr><th>int64</th><th>str28</th><th>int64</th><th>int64</th><th>float64</th><th>float64</th><th>float64</th><th>float64</th><th>float64</th><th>float64</th><th>float64</th><th>float64</th><th>float64</th><th>float64</th><th>float64</th><th>float64</th><th>float64</th><th>float64</th><th>float64</th><th>float64</th><th>float64</th><th>float64</th><th>float64</th><th>float64</th><th>float64</th><th>float64</th><th>float64</th><th>int64</th><th>int64</th><th>int64</th><th>int64</th><th>float64</th><th>float64</th><th>float64</th><th>float64</th><th>int64</th><th>str5</th><th>float64</th><th>float64</th><th>float64</th><th>float64</th><th>float64</th><th>float64</th><th>float64</th><th>float64</th><th>int64</th><th>int64</th><th>float64</th><th>int64</th><th>int64</th><th>int64</th><th>float64</th><th>float64</th><th>int64</th><th>int64</th><th>float64</th><th>float64</th><th>float64</th><th>float64</th><th>float64</th><th>float64</th><th>float64</th><th>float64</th><th>float64</th><th>str5</th><th>int64</th><th>float64</th><th>float64</th><th>float64</th><th>float64</th><th>int64</th><th>float64</th><th>float64</th><th>float64</th><th>float64</th><th>int64</th><th>float64</th><th>float64</th><th>float64</th><th>float64</th><th>float64</th><th>int64</th><th>int64</th><th>int64</th><th>int64</th><th>int64</th><th>float64</th><th>float64</th><th>float64</th><th>float64</th><th>float64</th><th>int64</th><th>int64</th><th>int64</th><th>int64</th><th>float64</th><th>float64</th><th>float64</th><th>float64</th><th>float64</th><th>float64</th><th>float64</th><th>float64</th><th>int64</th><th>float64</th><th>float64</th><th>int64</th><th>float64</th><th>float64</th><th>int64</th><th>float64</th><th>str13</th><th>float64</th><th>float64</th><th>float64</th><th>float64</th><th>str5</th><th>str5</th><th>int64</th><th>str4</th><th>str4</th><th>str5</th><th>str5</th><th>str5</th><th>str4</th><th>str4</th><th>str5</th><th>float64</th><th>float64</th><th>float64</th><th>float64</th><th>float64</th><th>float64</th><th>float64</th><th>float64</th><th>float64</th><th>float64</th><th>float64</th><th>float64</th><th>float64</th><th>float64</th><th>float64</th><th>float64</th><th>float64</th><th>float64</th><th>float64</th><th>float64</th><th>float64</th><th>float64</th><th>float64</th><th>float64</th><th>str5</th><th>float64</th><th>str5</th><th>float64</th><th>float64</th><th>float64</th></tr></thead>\n",
       "<tr><td>1636148068921376768</td><td>Gaia DR3 5673934548598976256</td><td>5673934548598976256</td><td>496894563</td><td>2016.0</td><td>149.99181347970926</td><td>0.02073083445429802</td><td>-16.159817432571124</td><td>0.017646493390202522</td><td>25.916240567841523</td><td>0.0236706230789423</td><td>1094.869384765625</td><td>180.09185791015625</td><td>52.347035274698484</td><td>0.025161560624837875</td><td>-172.3161721089956</td><td>0.02217167802155018</td><td>0.09113668650388718</td><td>-0.21216897666454315</td><td>-0.005491659976541996</td><td>0.08906684070825577</td><td>-0.18100658059120178</td><td>-0.0054120756685733795</td><td>0.11999623477458954</td><td>0.2512490153312683</td><td>-0.218526229262352</td><td>-0.039218321442604065</td><td>183</td><td>0</td><td>183</td><td>0</td><td>2.5557479858398438</td><td>223.6964874267578</td><td>0.05413055792450905</td><td>0.9900203347206116</td><td>31</td><td>False</td><td>1.2562830448150635</td><td>-9999.0</td><td>-9999.0</td><td>-9999.0</td><td>-9999.0</td><td>-9999.0</td><td>-9999.0</td><td>-9999.0</td><td>21</td><td>14</td><td>0.03528199344873428</td><td>25</td><td>9</td><td>0</td><td>0.019336922094225883</td><td>21.283803939819336</td><td>0</td><td>0</td><td>1.1365129947662354</td><td>0.2524704933166504</td><td>0.16839353740215302</td><td>0.17513258755207062</td><td>0.7521869540214539</td><td>-95.53614807128906</td><td>-7.620359420776367</td><td>-6.125428676605225</td><td>-23.017244338989258</td><td>False</td><td>217</td><td>36404.80544783458</td><td>19.260093688964844</td><td>1890.1676025390625</td><td>14.284469604492188</td><td>24</td><td>6101.3555529700425</td><td>21.110458374023438</td><td>289.0205078125</td><td>15.87497615814209</td><td>24</td><td>46946.223008333196</td><td>65.11183166503906</td><td>721.0090942382812</td><td>13.068893432617188</td><td>1.4571586847305298</td><td>0</td><td>0</td><td>1</td><td>0</td><td>0</td><td>2.8060827255249023</td><td>1.5905065536499023</td><td>1.215576171875</td><td>98.95497131347656</td><td>2.7633743286132812</td><td>2</td><td>12</td><td>1</td><td>10</td><td>10.405506134033203</td><td>-9999.0</td><td>-9999.0</td><td>801.7559204101562</td><td>-9999.0</td><td>3300.0</td><td>4.5</td><td>0.0</td><td>101</td><td>-9999.0</td><td>-9999.0</td><td>-9999</td><td>12.47266960144043</td><td>0.03517646715044975</td><td>11</td><td>-9999.0</td><td>NOT_AVAILABLE</td><td>253.9659304619132</td><td>29.974541003408508</td><td>158.35788821675354</td><td>-26.514790151518675</td><td>False</td><td>False</td><td>0</td><td>True</td><td>True</td><td>False</td><td>False</td><td>False</td><td>True</td><td>True</td><td>False</td><td>1.2558453354929305e-13</td><td>6.272884230280884e-13</td><td>0.9976671934127808</td><td>3192.54150390625</td><td>3191.840576171875</td><td>3193.1357421875</td><td>5.015900135040283</td><td>5.010700225830078</td><td>5.016499996185303</td><td>-0.19460000097751617</td><td>-0.1972000002861023</td><td>-0.19189999997615814</td><td>38.450199127197266</td><td>38.403499603271484</td><td>38.600399017333984</td><td>9.999999747378752e-05</td><td>0.0</td><td>0.0017999999690800905</td><td>9.999999747378752e-05</td><td>0.0</td><td>0.0010999999940395355</td><td>0.0</td><td>0.0</td><td>0.0007999999797903001</td><td>MARCS</td><td>25.969653567799323</td><td>False</td><td>0.002805652709298906</td><td>0.004444815596202689</td><td>0.004025834492958388</td></tr>\n",
       "</table></div>"
      ],
      "text/plain": [
       "<Table length=1>\n",
       "  SOLUTION_ID_GAIA        DESIGNATION_GAIA          SOURCE_ID_GAIA   RANDOM_INDEX_GAIA ... WARNINGS_PARALLAXOFFSET_GAIA ERROR_PHOT_G_MEAN_MAG_GAIA ERROR_PHOT_BP_MEAN_MAG_GAIA ERROR_PHOT_RP_MEAN_MAG_GAIA\n",
       "       int64                   str28                    int64              int64       ...             str5                      float64                     float64                     float64          \n",
       "------------------- ---------------------------- ------------------- ----------------- ... ---------------------------- -------------------------- --------------------------- ---------------------------\n",
       "1636148068921376768 Gaia DR3 5673934548598976256 5673934548598976256         496894563 ...                        False       0.002805652709298906        0.004444815596202689        0.004025834492958388"
      ]
     },
     "execution_count": 6,
     "metadata": {},
     "output_type": "execute_result"
    }
   ],
   "source": [
    "a"
   ]
  },
  {
   "cell_type": "code",
   "execution_count": 8,
   "id": "3e804b70",
   "metadata": {},
   "outputs": [
    {
     "name": "stdout",
     "output_type": "stream",
     "text": [
      "HAS_MCMC_GSPPHOT_GAIA\n",
      "HAS_MCMC_GSPPHOT_GAIA\n",
      "---------------------\n",
      "                 True\n",
      "TEFF_GSPPHOT_GAIA\n",
      "TEFF_GSPPHOT_GAIA\n",
      "-----------------\n",
      " 3192.54150390625\n",
      "LOWER_ERROR_TEFF_GSPPHOT_GAIA\n",
      "LOWER_ERROR_TEFF_GSPPHOT_GAIA\n",
      "-----------------------------\n",
      "            3191.840576171875\n",
      "UPPER_ERROR_TEFF_GSPPHOT_GAIA\n",
      "UPPER_ERROR_TEFF_GSPPHOT_GAIA\n",
      "-----------------------------\n",
      "              3193.1357421875\n",
      "LOGG_GSPPHOT_GAIA\n",
      "LOGG_GSPPHOT_GAIA\n",
      "-----------------\n",
      "5.015900135040283\n",
      "LOWER_ERROR_LOGG_GSPPHOT_GAIA\n",
      "LOWER_ERROR_LOGG_GSPPHOT_GAIA\n",
      "-----------------------------\n",
      "            5.010700225830078\n",
      "UPPER_ERROR_LOGG_GSPPHOT_GAIA\n",
      "UPPER_ERROR_LOGG_GSPPHOT_GAIA\n",
      "-----------------------------\n",
      "            5.016499996185303\n",
      "MH_GSPPHOT_GAIA\n",
      "  MH_GSPPHOT_GAIA   \n",
      "--------------------\n",
      "-0.19460000097751617\n",
      "LOWER_ERROR_MH_GSPPHOT_GAIA\n",
      "LOWER_ERROR_MH_GSPPHOT_GAIA\n",
      "---------------------------\n",
      "        -0.1972000002861023\n",
      "UPPER_ERROR_MH_GSPPHOT_GAIA\n",
      "UPPER_ERROR_MH_GSPPHOT_GAIA\n",
      "---------------------------\n",
      "       -0.19189999997615814\n",
      "DISTANCE_GSPPHOT_GAIA\n",
      "DISTANCE_GSPPHOT_GAIA\n",
      "---------------------\n",
      "   38.450199127197266\n",
      "LOWER_ERROR_DISTANCE_GSPPHOT_GAIA\n",
      "LOWER_ERROR_DISTANCE_GSPPHOT_GAIA\n",
      "---------------------------------\n",
      "               38.403499603271484\n",
      "UPPER_ERROR_DISTANCE_GSPPHOT_GAIA\n",
      "UPPER_ERROR_DISTANCE_GSPPHOT_GAIA\n",
      "---------------------------------\n",
      "               38.600399017333984\n",
      "AZERO_GSPPHOT_GAIA\n",
      "  AZERO_GSPPHOT_GAIA \n",
      "---------------------\n",
      "9.999999747378752e-05\n",
      "LOWER_ERROR_AZERO_GSPPHOT_GAIA\n",
      "LOWER_ERROR_AZERO_GSPPHOT_GAIA\n",
      "------------------------------\n",
      "                           0.0\n",
      "UPPER_ERROR_AZERO_GSPPHOT_GAIA\n",
      "UPPER_ERROR_AZERO_GSPPHOT_GAIA\n",
      "------------------------------\n",
      "         0.0017999999690800905\n",
      "AG_GSPPHOT_GAIA\n",
      "   AG_GSPPHOT_GAIA   \n",
      "---------------------\n",
      "9.999999747378752e-05\n",
      "LOWER_ERROR_AG_GSPPHOT_GAIA\n",
      "LOWER_ERROR_AG_GSPPHOT_GAIA\n",
      "---------------------------\n",
      "                        0.0\n",
      "UPPER_ERROR_AG_GSPPHOT_GAIA\n",
      "UPPER_ERROR_AG_GSPPHOT_GAIA\n",
      "---------------------------\n",
      "      0.0010999999940395355\n",
      "EBPMINRP_GSPPHOT_GAIA\n",
      "EBPMINRP_GSPPHOT_GAIA\n",
      "---------------------\n",
      "                  0.0\n",
      "LOWER_ERROR_EBPMINRP_GSPPHOT_GAIA\n",
      "LOWER_ERROR_EBPMINRP_GSPPHOT_GAIA\n",
      "---------------------------------\n",
      "                              0.0\n",
      "UPPER_ERROR_EBPMINRP_GSPPHOT_GAIA\n",
      "UPPER_ERROR_EBPMINRP_GSPPHOT_GAIA\n",
      "---------------------------------\n",
      "            0.0007999999797903001\n",
      "LIBNAME_GSPPHOT_GAIA\n",
      "LIBNAME_GSPPHOT_GAIA\n",
      "--------------------\n",
      "               MARCS\n"
     ]
    }
   ],
   "source": [
    "for col in a.columns:\n",
    "    if 'GSPPHOT' in col:\n",
    "        print(col)\n",
    "        print(a[col])"
   ]
  },
  {
   "cell_type": "code",
   "execution_count": null,
   "id": "b30d93b7",
   "metadata": {},
   "outputs": [],
   "source": []
  }
 ],
 "metadata": {
  "kernelspec": {
   "display_name": "Python 3 (ipykernel)",
   "language": "python",
   "name": "python3"
  },
  "language_info": {
   "codemirror_mode": {
    "name": "ipython",
    "version": 3
   },
   "file_extension": ".py",
   "mimetype": "text/x-python",
   "name": "python",
   "nbconvert_exporter": "python",
   "pygments_lexer": "ipython3",
   "version": "3.10.12"
  }
 },
 "nbformat": 4,
 "nbformat_minor": 5
}
